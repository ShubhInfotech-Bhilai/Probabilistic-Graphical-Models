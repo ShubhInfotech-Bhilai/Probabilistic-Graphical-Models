{
 "cells": [
  {
   "cell_type": "markdown",
   "metadata": {},
   "source": [
    "# 2 Linear classification"
   ]
  },
  {
   "cell_type": "markdown",
   "metadata": {},
   "source": [
    "## 1. Generative model (LDA)"
   ]
  },
  {
   "cell_type": "markdown",
   "metadata": {},
   "source": [
    "__(c)__ Maximum Likelihood Entropy for the model"
   ]
  },
  {
   "cell_type": "code",
   "execution_count": 3,
   "metadata": {
    "collapsed": true
   },
   "outputs": [],
   "source": [
    "import numpy as np\n",
    "import pandas as pd\n",
    "import matplotlib.pyplot as plt\n",
    "%matplotlib inline"
   ]
  },
  {
   "cell_type": "code",
   "execution_count": 4,
   "metadata": {
    "collapsed": true
   },
   "outputs": [],
   "source": [
    "# specify the colors\n",
    "import matplotlib\n",
    "alpha = 0.3\n",
    "colors = [\n",
    "    (0.7, 0.0, 0.0, alpha),  # red\n",
    "    (0, 0, 0.7, alpha),  # blue    \n",
    "]\n",
    "cmap = matplotlib.colors.ListedColormap(colors)"
   ]
  },
  {
   "cell_type": "code",
   "execution_count": 3,
   "metadata": {
    "collapsed": false
   },
   "outputs": [],
   "source": [
    "data = np.genfromtxt('data/classificationA.train', delimiter='')\n",
    "\n",
    "# select coord of pts belonging to class 0\n",
    "class0 = data[data[:, 2] == 0][:, (0,1)]\n",
    "\n",
    "# select coord of pts belonging to class 1\n",
    "class1 = data[data[:, 2] == 1][:, (0,1)]"
   ]
  },
  {
   "cell_type": "code",
   "execution_count": 4,
   "metadata": {
    "collapsed": false
   },
   "outputs": [
    {
     "data": {
      "image/png": "[encoded data removed]",
      "text/plain": [
       "<matplotlib.figure.Figure at 0x1dd5fd1feb8>"
      ]
     },
     "metadata": {},
     "output_type": "display_data"
    }
   ],
   "source": [
    "# plot the data from classificationA\n",
    "fig = plt.figure(figsize=(12,8))\n",
    "plt.scatter(class0[:, 0], class0[:, 1], c=\"r\")\n",
    "plt.scatter(class1[:, 0], class1[:, 1], c=\"b\")\n",
    "plt.show()"
   ]
  },
  {
   "cell_type": "code",
   "execution_count": 5,
   "metadata": {
    "collapsed": false
   },
   "outputs": [],
   "source": [
    "def lda_train(data):\n",
    "    # select coord of pts belonging to class 0\n",
    "    class0 = data[data[:, 2] == 0][:, (0,1)]\n",
    "\n",
    "    # select coord of pts belonging to class 1\n",
    "    class1 = data[data[:, 2] == 1][:, (0,1)]\n",
    "    \n",
    "    # compute paramaters for model\n",
    "    mu0 = np.mean(class0, axis=0)\n",
    "    mu1 = np.mean(class1, axis=0)\n",
    "\n",
    "    sigma0 = (class0 - mu0).T.dot(class0 - mu0) / len(class0)\n",
    "    sigma1 = (class1 - mu1).T.dot(class1 - mu1) / len(class1)\n",
    "\n",
    "    sigma = (sigma0 * len(class0) + sigma1 * len(class1)) / len(data)\n",
    "\n",
    "    pi = len(class1)/len(data)\n",
    "    \n",
    "    # compute p(y = 1 | x) = sigma(beta.T.dot(x) + gamma)\n",
    "    beta = np.linalg.inv(sigma).dot(mu1 - mu0)\n",
    "    gamma = - np.log((1-pi)/pi) - 0.5 * (mu1.T.dot(np.linalg.inv(sigma)).dot(mu1) - mu0.T.dot(np.linalg.inv(sigma)).dot(mu0))\n",
    "    \n",
    "    print(\"beta: \", beta)\n",
    "    print(\"gamma: \", gamma)\n",
    "    \n",
    "    beta = np.append(beta, gamma)\n",
    "    return beta"
   ]
  },
  {
   "cell_type": "code",
   "execution_count": 6,
   "metadata": {
    "collapsed": false
   },
   "outputs": [
    {
     "name": "stdout",
     "output_type": "stream",
     "text": [
      "beta:  [-6.62245258 -9.3462503 ]\n",
      "gamma:  -0.136496290948\n"
     ]
    }
   ],
   "source": [
    "beta = lda_train(data)"
   ]
  },
  {
   "cell_type": "code",
   "execution_count": 7,
   "metadata": {
    "collapsed": false
   },
   "outputs": [
    {
     "data": {
      "image/png": "[encoded data removed]",
      "text/plain": [
       "<matplotlib.figure.Figure at 0x1dd60390eb8>"
      ]
     },
     "metadata": {},
     "output_type": "display_data"
    }
   ],
   "source": [
    "# p(y = 1 | x) = 0.5 iff \n",
    "# sigma(beta.T.dot(x) + gamma) = 0.5 iff\n",
    "# beta.T.dot(x) + gamma = 0\n",
    "fig = plt.figure(figsize=(12,8))\n",
    "ax = fig.add_subplot(111)\n",
    "\n",
    "# select coord of pts belonging to class 0\n",
    "class0 = data[data[:, 2] == 0][:, (0,1)]\n",
    "\n",
    "# select coord of pts belonging to class 1\n",
    "class1 = data[data[:, 2] == 1][:, (0,1)]\n",
    "\n",
    "x, y = np.linspace(-8,7,100), np.linspace(-3,4,100)\n",
    "X, Y = np.meshgrid(x,y)\n",
    "Z = beta[0]*X + beta[1]*Y + beta[2]\n",
    "\n",
    "plt.scatter(class0[:, 0], class0[:, 1], c=\"r\")\n",
    "plt.scatter(class1[:, 0], class1[:, 1], c=\"b\")\n",
    "plt.contourf(X, Y, Z, 0, cmap=cmap)\n",
    "plt.show()"
   ]
  },
  {
   "cell_type": "markdown",
   "metadata": {},
   "source": [
    "## 2. Logistic regression"
   ]
  },
  {
   "cell_type": "code",
   "execution_count": 8,
   "metadata": {
    "collapsed": false
   },
   "outputs": [],
   "source": [
    "data = np.genfromtxt('data/classificationC.train', delimiter='')\n",
    "\n",
    "# separate the data and add one to x to account for the offset\n",
    "def process_data(data):\n",
    "    Y = data[:, 2]\n",
    "    X = np.array(data, copy=True)\n",
    "    X[:, 2] = 1    \n",
    "    return X, Y\n",
    "\n",
    "# import sigmoid (expit) function\n",
    "from scipy.special import expit\n",
    "\n",
    "# see p2-7\n",
    "def logistic_train(data, iter=100):\n",
    "    X, Y = process_data(data)\n",
    "    p = X.shape[1] # number of weights\n",
    "    w = np.random.rand(p) * 0.1\n",
    "    \n",
    "    for i in range(iter):        \n",
    "        eta = expit(X.dot(w))\n",
    "        dl = X.T.dot(Y - eta)\n",
    "        diag = np.diag(eta*(1-eta))\n",
    "        hl = -X.T.dot(diag).dot(X)\n",
    "        \n",
    "        # update weights\n",
    "        w = w - np.linalg.solve(hl,dl)\n",
    "    return w\n",
    "\n",
    "w_log = logistic_train(data)"
   ]
  },
  {
   "cell_type": "code",
   "execution_count": 9,
   "metadata": {
    "collapsed": false
   },
   "outputs": [
    {
     "data": {
      "image/png": "[encoded data removed]",
      "text/plain": [
       "<matplotlib.figure.Figure at 0x1dd60a55dd8>"
      ]
     },
     "metadata": {},
     "output_type": "display_data"
    },
    {
     "name": "stdout",
     "output_type": "stream",
     "text": [
      "number of pts : 400\n",
      "beta1 : -2.20323239693\n",
      "beta2 : 0.709265621318\n",
      "gamma : 0.959188854105\n"
     ]
    }
   ],
   "source": [
    "fig = plt.figure(figsize=(12,8))\n",
    "ax = fig.add_subplot(111)\n",
    "\n",
    "# select coord of pts belonging to class 0\n",
    "class0 = data[data[:, 2] == 0][:, (0,1)]\n",
    "\n",
    "# select coord of pts belonging to class 1\n",
    "class1 = data[data[:, 2] == 1][:, (0,1)]\n",
    "\n",
    "x, y = np.linspace(-11,8,100), np.linspace(-6,5,100)\n",
    "X, Y = np.meshgrid(x,y)\n",
    "Z = w_log[0]*X + w_log[1]*Y + w_log[2]\n",
    "\n",
    "plt.scatter(class0[:, 0], class0[:, 1], c=\"r\")\n",
    "plt.scatter(class1[:, 0], class1[:, 1], c=\"b\")\n",
    "plt.contourf(X, Y, Z, 0, cmap=cmap)\n",
    "plt.show()\n",
    "\n",
    "print(\"number of pts :\", len(data))\n",
    "print(\"beta1 :\", w_log[0])\n",
    "print(\"beta2 :\", w_log[1])\n",
    "print(\"gamma :\", w_log[2])"
   ]
  },
  {
   "cell_type": "markdown",
   "metadata": {},
   "source": [
    "## 3. Linear regression"
   ]
  },
  {
   "cell_type": "code",
   "execution_count": 10,
   "metadata": {
    "collapsed": true
   },
   "outputs": [],
   "source": [
    "data = np.genfromtxt('data/classificationC.train', delimiter='')\n",
    "\n",
    "def linear_train(data):\n",
    "    X, Y = process_data(data)\n",
    "    return np.linalg.inv(X.T.dot(X)).dot(X.T).dot(Y)"
   ]
  },
  {
   "cell_type": "code",
   "execution_count": 11,
   "metadata": {
    "collapsed": false
   },
   "outputs": [],
   "source": [
    "w_lin = linear_train(data)"
   ]
  },
  {
   "cell_type": "code",
   "execution_count": 12,
   "metadata": {
    "collapsed": false
   },
   "outputs": [
    {
     "data": {
      "image/png": "[encoded data removed]",
      "text/plain": [
       "<matplotlib.figure.Figure at 0x1dd601dbc50>"
      ]
     },
     "metadata": {},
     "output_type": "display_data"
    },
    {
     "name": "stdout",
     "output_type": "stream",
     "text": [
      "number of pts : 400\n",
      "beta1 : -0.127693330499\n",
      "beta2 : -0.0170014214318\n",
      "gamma : 0.00839981582635\n"
     ]
    }
   ],
   "source": [
    "fig = plt.figure(figsize=(12,8))\n",
    "ax = fig.add_subplot(111)\n",
    "\n",
    "# select coord of pts belonging to class 0\n",
    "class0 = data[data[:, 2] == 0][:, (0,1)]\n",
    "\n",
    "# select coord of pts belonging to class 1\n",
    "class1 = data[data[:, 2] == 1][:, (0,1)]\n",
    "\n",
    "x, y = np.linspace(-11,8,100), np.linspace(-6,5,100)\n",
    "X, Y = np.meshgrid(x,y)\n",
    "Z = w_lin[0]*X + w_lin[1]*Y + w_lin[2] - 0.5\n",
    "\n",
    "plt.scatter(class0[:, 0], class0[:, 1], c=\"r\")\n",
    "plt.scatter(class1[:, 0], class1[:, 1], c=\"b\")\n",
    "plt.contourf(X, Y, Z, 0, cmap=cmap)\n",
    "plt.show()\n",
    "\n",
    "print(\"number of pts :\", len(data))\n",
    "print(\"beta1 :\", w_lin[0])\n",
    "print(\"beta2 :\", w_lin[1])\n",
    "print(\"gamma :\", w_lin[2] - 0.5)"
   ]
  },
  {
   "cell_type": "markdown",
   "metadata": {},
   "source": [
    "## 4. Testing the models"
   ]
  },
  {
   "cell_type": "code",
   "execution_count": 13,
   "metadata": {
    "collapsed": true
   },
   "outputs": [],
   "source": [
    "# number of points misclassified\n",
    "# for linear regression the threshold is 0.5\n",
    "# for the others models the threshold is 0\n",
    "def getError(data, beta, threshold):\n",
    "    X, Y = process_data(data)\n",
    "    Ypred = (X.dot(beta) >= threshold)\n",
    "    return np.mean(Ypred != Y) * 100"
   ]
  },
  {
   "cell_type": "code",
   "execution_count": 14,
   "metadata": {
    "collapsed": false
   },
   "outputs": [
    {
     "name": "stdout",
     "output_type": "stream",
     "text": [
      "beta:  [-6.62245258 -9.3462503 ]\n",
      "gamma:  -0.136496290948\n",
      "LDA error on training dataset A :  1.33333333333\n",
      "LDA error on testing dataset A :  2.0\n",
      "\n",
      "\n",
      "Linear Regression error on training dataset A :  1.33333333333\n",
      "Linear Regression error on testing dataset A :  2.06666666667\n",
      "\n",
      "\n",
      "Logistic Regression error on training dataset A :  0.0\n",
      "Logistic Regression error on testing dataset A :  3.53333333333\n",
      "\n",
      "\n",
      "beta:  [-1.92108197  0.95442836]\n",
      "gamma:  0.000929288716541\n",
      "LDA error on training dataset B :  3.0\n",
      "LDA error on testing dataset B :  4.15\n",
      "\n",
      "\n",
      "Linear Regression error on training dataset B :  3.0\n",
      "Linear Regression error on testing dataset B :  4.15\n",
      "\n",
      "\n",
      "Logistic Regression error on training dataset B :  2.0\n",
      "Logistic Regression error on testing dataset B :  4.3\n",
      "\n",
      "\n",
      "beta:  [-2.05129911 -0.27311529]\n",
      "gamma:  0.112429132177\n",
      "LDA error on training dataset C :  5.5\n",
      "LDA error on testing dataset C :  4.23333333333\n",
      "\n",
      "\n",
      "Linear Regression error on training dataset C :  5.5\n",
      "Linear Regression error on testing dataset C :  4.23333333333\n",
      "\n",
      "\n",
      "Logistic Regression error on training dataset C :  4.0\n",
      "Logistic Regression error on testing dataset C :  2.26666666667\n",
      "\n",
      "\n"
     ]
    }
   ],
   "source": [
    "ds = [\n",
    "    'data/classificationA',\n",
    "    'data/classificationB',\n",
    "    'data/classificationC'\n",
    "]\n",
    "\n",
    "ds_type = ['train', 'test']\n",
    "\n",
    "classifiers = {'LDA': lda_train,\n",
    "               'Linear Regression': linear_train,\n",
    "               'Logistic Regression': logistic_train\n",
    "              }\n",
    "\n",
    "for data in ds:\n",
    "    for cl, fct in classifiers.items():\n",
    "        for data_type in ds_type:\n",
    "            dset = np.genfromtxt(data + '.' + data_type, delimiter='')\n",
    "            \n",
    "            # we need not compute Beta over the testing set !!\n",
    "            beta = fct(dset) if data_type == \"train\" else beta\n",
    "            err = getError(dset, beta, 0.5 if 'Li' in cl else 0)\n",
    "            print(cl, \"error on\", data_type + \"ing dataset\", data[-1:], \": \", err)\n",
    "        print(\"\\n\")"
   ]
  },
  {
   "cell_type": "markdown",
   "metadata": {
    "collapsed": true
   },
   "source": [
    "## 5 QDA model"
   ]
  },
  {
   "cell_type": "code",
   "execution_count": 5,
   "metadata": {
    "collapsed": false
   },
   "outputs": [],
   "source": [
    "data = np.genfromtxt('data/classificationA.train', delimiter='')\n",
    "\n",
    "def qda_train(data):\n",
    "    # select coord of pts belonging to class 0\n",
    "    class0 = data[data[:, 2] == 0][:, (0,1)]\n",
    "\n",
    "    # select coord of pts belonging to class 1\n",
    "    class1 = data[data[:, 2] == 1][:, (0,1)]\n",
    "    \n",
    "    # compute paramaters for model\n",
    "    mu0 = np.mean(class0, axis=0)\n",
    "    mu1 = np.mean(class1, axis=0)\n",
    "\n",
    "    sigma0 = (class0 - mu0).T.dot(class0 - mu0) / len(class0)\n",
    "    sigma1 = (class1 - mu1).T.dot(class1 - mu1) / len(class1)\n",
    "\n",
    "    # number of point belonging to class1\n",
    "    pi = len(class1)/len(data)\n",
    "    \n",
    "    inv_sigma1 = np.linalg.inv(sigma1)\n",
    "    inv_sigma0 = np.linalg.inv(sigma0)\n",
    "\n",
    "    Q = -(inv_sigma1 - inv_sigma0)\n",
    "    beta = -(mu0.dot(inv_sigma0) - mu1.dot(inv_sigma1))\n",
    "    gamma = -0.5 * ( mu1.T.dot(inv_sigma1).dot(mu1) - mu0.T.dot(inv_sigma0).dot(mu0) + \\\n",
    "                   np.log(np.linalg.det(sigma1)) - np.log(np.linalg.det(sigma0)) ) - np.log((1-pi)/pi)\n",
    "    \n",
    "    return Q, beta, gamma\n",
    "\n",
    "Q, beta, gamma = qda_train(data)"
   ]
  },
  {
   "cell_type": "code",
   "execution_count": 6,
   "metadata": {
    "collapsed": false
   },
   "outputs": [
    {
     "name": "stdout",
     "output_type": "stream",
     "text": [
      "Q:  [[-1.51744039 -3.0272297 ]\n",
      " [-3.0272297  -5.72332675]]\n",
      "beta:  [ -7.36527314 -10.87335416]\n",
      "gamma:  -0.626271453018\n"
     ]
    },
    {
     "data": {
      "image/png": "[encoded data removed]",
      "text/plain": [
       "<matplotlib.figure.Figure at 0x1b713a0b400>"
      ]
     },
     "metadata": {},
     "output_type": "display_data"
    }
   ],
   "source": [
    "fig = plt.figure(figsize=(12,8))\n",
    "ax = fig.add_subplot(111)\n",
    "\n",
    "class0 = data[data[:, 2] == 0][:, (0,1)]\n",
    "class1 = data[data[:, 2] == 1][:, (0,1)]\n",
    "\n",
    "x, y = np.linspace(-9,9,100), np.linspace(-6,4,100)\n",
    "X, Y = np.meshgrid(x,y)\n",
    "Z = 0.5 *(Q[0][0]*X*X + Q[1][1]*Y*Y + 2*Q[0][1]*X*Y) + beta[0]*X + beta[1]*Y + gamma # Q[0][1] = Q[1][0]\n",
    "\n",
    "plt.scatter(class0[:, 0], class0[:, 1], c=\"r\")\n",
    "plt.scatter(class1[:, 0], class1[:, 1], c=\"b\")\n",
    "plt.contourf(X, Y, Z, 0, cmap=cmap)\n",
    "\n",
    "print(\"Q: \", Q)\n",
    "print(\"beta: \", beta)\n",
    "print(\"gamma: \", gamma)\n",
    "\n",
    "plt.show()"
   ]
  },
  {
   "cell_type": "code",
   "execution_count": 7,
   "metadata": {
    "collapsed": false
   },
   "outputs": [
    {
     "name": "stdout",
     "output_type": "stream",
     "text": [
      "QDA error on training dataset A :  0.666666666667\n",
      "QDA error on testing dataset A :  2.0\n",
      "\n",
      "\n",
      "QDA error on training dataset B :  1.33333333333\n",
      "QDA error on testing dataset B :  2.0\n",
      "\n",
      "\n",
      "QDA error on training dataset C :  5.25\n",
      "QDA error on testing dataset C :  3.83333333333\n",
      "\n",
      "\n"
     ]
    }
   ],
   "source": [
    "def getErrorQDA(data, Q, beta, gamma):\n",
    "    Y = data[:, 2]\n",
    "    X = data[:, (0,1)]\n",
    "    Ypred = (0.5*np.diag(X.dot(Q).dot(X.T)) + X.dot(beta) + gamma  >= 0)\n",
    "    return np.mean(Ypred != Y) * 100\n",
    "\n",
    "ds = [\n",
    "    'data/classificationA',\n",
    "    'data/classificationB',\n",
    "    'data/classificationC'\n",
    "]\n",
    "\n",
    "ds_type = ['train', 'test']\n",
    "\n",
    "classifiers = {'QDA': qda_train}\n",
    "\n",
    "for data in ds:\n",
    "    for cl, fct in classifiers.items():\n",
    "        for data_type in ds_type:\n",
    "            dset = np.genfromtxt(data + '.' + data_type, delimiter='')\n",
    "            \n",
    "            # we need not compute Beta over the testing set !!\n",
    "            Q, beta, gamma = fct(dset) if data_type == \"train\" else (Q, beta, gamma)\n",
    "            err = getErrorQDA(dset, Q, beta, gamma)\n",
    "            print(cl, \"error on\", data_type + \"ing dataset\", data[-1:], \": \", err)\n",
    "        print(\"\\n\")"
   ]
  },
  {
   "cell_type": "markdown",
   "metadata": {
    "collapsed": true
   },
   "source": [
    "### Conclusion:\n",
    "This homework was interesting. Yet, I spent too much time on the report (I'm quite new to LaTeX). I've copied and pasted all the parameters with great accuracy in the report so you can verify easily the correctness of the result. My code is far from being perfect. actually I've realized I should have used OOP paradigm and create functions such as train and predict (as it is done in scikit-learn)."
   ]
  },
  {
   "cell_type": "code",
   "execution_count": null,
   "metadata": {
    "collapsed": true
   },
   "outputs": [],
   "source": []
  }
 ],
 "metadata": {
  "kernelspec": {
   "display_name": "Python 3",
   "language": "python",
   "name": "python3"
  },
  "language_info": {
   "codemirror_mode": {
    "name": "ipython",
    "version": 3
   },
   "file_extension": ".py",
   "mimetype": "text/x-python",
   "name": "python",
   "nbconvert_exporter": "python",
   "pygments_lexer": "ipython3",
   "version": "3.6.0"
  }
 },
 "nbformat": 4,
 "nbformat_minor": 2
}
